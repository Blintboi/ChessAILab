{
  "nbformat": 4,
  "nbformat_minor": 0,
  "metadata": {
    "colab": {
      "provenance": [],
      "mount_file_id": "1vHy_nfEwtjXGNw6EgjCEpCRhWHoOjc8-",
      "authorship_tag": "ABX9TyPt3t72K4iOiSb49xCCMNIK",
      "include_colab_link": true
    },
    "kernelspec": {
      "name": "python3",
      "display_name": "Python 3"
    },
    "language_info": {
      "name": "python"
    }
  },
  "cells": [
    {
      "cell_type": "markdown",
      "metadata": {
        "id": "view-in-github",
        "colab_type": "text"
      },
      "source": [
        "<a href=\"https://colab.research.google.com/github/Blintboi/ChessAILab/blob/main/fetch_chess_games.ipynb\" target=\"_parent\"><img src=\"https://colab.research.google.com/assets/colab-badge.svg\" alt=\"Open In Colab\"/></a>"
      ]
    },
    {
      "cell_type": "code",
      "execution_count": null,
      "metadata": {
        "colab": {
          "base_uri": "https://localhost:8080/"
        },
        "id": "xVd5ZBgXRoEl",
        "outputId": "c481e4be-a6aa-40a5-ae2e-a85ea9bb98fb"
      },
      "outputs": [
        {
          "output_type": "stream",
          "name": "stdout",
          "text": [
            "Összesen 6515 játszma érkezett a(z) 'blintboi' felhasználótól. \n",
            "A játszmák lementve a 'games.json' fájlba.\n"
          ]
        }
      ],
      "source": [
        "import requests\n",
        "import json\n",
        "\n",
        "def fetch_games(username: str):\n",
        "    archives_url = f\"https://api.chess.com/pub/player/{username}/games/archives\"\n",
        "\n",
        "    # enélkül 403-as hibám volt\n",
        "    headers = {\n",
        "        \"User-Agent\": \"Mozilla/5.0 (Windows NT 10.0; Win64; x64) \"\n",
        "                      \"AppleWebKit/537.36 (KHTML, like Gecko) \"\n",
        "                      \"Chrome/58.0.3029.110 Safari/537.3\"\n",
        "    }\n",
        "\n",
        "    response_archives = requests.get(archives_url, headers=headers)\n",
        "    if response_archives.status_code != 200:\n",
        "        raise Exception(f\"Nem sikerült lekérdezni a játszmákat. HTTP kód: {response_archives.status_code}\")\n",
        "\n",
        "    data_archives = response_archives.json()\n",
        "    archive_links = data_archives.get(\"archives\", [])\n",
        "    if not archive_links:\n",
        "        print(f\"Nincsenek elérhető játszmák a következő felhasználóhoz: {username}\")\n",
        "        return []\n",
        "\n",
        "    all_games = []\n",
        "    for link in archive_links:\n",
        "        resp = requests.get(link, headers=headers)\n",
        "        if resp.status_code == 200:\n",
        "            archive_data = resp.json()\n",
        "            monthly_games = archive_data.get(\"games\", [])\n",
        "            all_games.extend(monthly_games)\n",
        "        else:\n",
        "            print(f\"Hiba történt a lekéréskor: {link}\")\n",
        "\n",
        "    return all_games\n",
        "\n",
        "\n",
        "def save_games_to_json(games, filename=\"games.json\"):\n",
        "    with open(filename, \"w\", encoding=\"utf-8\") as f:\n",
        "        json.dump(games, f, indent=2, ensure_ascii=False)\n",
        "\n",
        "\n",
        "if __name__ == \"__main__\":\n",
        "    username = \"blintboi\"  #név megadása\n",
        "    games = fetch_games(username)\n",
        "\n",
        "    save_games_to_json(games, filename=\"games.json\")\n",
        "\n",
        "    print(f\"Összesen {len(games)} játszma érkezett a(z) '{username}' felhasználótól. \")\n",
        "    print(\"A játszmák lementve a 'games.json' fájlba.\")\n"
      ]
    }
  ]
}